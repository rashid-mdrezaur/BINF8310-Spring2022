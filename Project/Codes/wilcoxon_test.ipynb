{
 "cells": [
  {
   "cell_type": "code",
   "execution_count": 74,
   "id": "2477fc38-40b3-4a6f-a003-abcc3114630e",
   "metadata": {},
   "outputs": [],
   "source": [
    "import pandas as pd\n",
    "import numpy as np\n",
    "from scipy.stats import wilcoxon, mannwhitneyu\n",
    "import matplotlib.pyplot as plt"
   ]
  },
  {
   "cell_type": "code",
   "execution_count": 75,
   "id": "85c7097a-e150-4b52-ad42-4982601465c1",
   "metadata": {},
   "outputs": [
    {
     "data": {
      "text/html": [
       "<div>\n",
       "<style scoped>\n",
       "    .dataframe tbody tr th:only-of-type {\n",
       "        vertical-align: middle;\n",
       "    }\n",
       "\n",
       "    .dataframe tbody tr th {\n",
       "        vertical-align: top;\n",
       "    }\n",
       "\n",
       "    .dataframe thead th {\n",
       "        text-align: right;\n",
       "    }\n",
       "</style>\n",
       "<table border=\"1\" class=\"dataframe\">\n",
       "  <thead>\n",
       "    <tr style=\"text-align: right;\">\n",
       "      <th></th>\n",
       "      <th>date</th>\n",
       "      <th>location</th>\n",
       "      <th>total_vaccinations</th>\n",
       "      <th>total_distributed</th>\n",
       "      <th>people_vaccinated</th>\n",
       "      <th>people_fully_vaccinated_per_hundred</th>\n",
       "      <th>total_vaccinations_per_hundred</th>\n",
       "      <th>people_fully_vaccinated</th>\n",
       "      <th>people_vaccinated_per_hundred</th>\n",
       "      <th>distributed_per_hundred</th>\n",
       "      <th>daily_vaccinations_raw</th>\n",
       "      <th>daily_vaccinations</th>\n",
       "      <th>daily_vaccinations_per_million</th>\n",
       "      <th>share_doses_used</th>\n",
       "      <th>total_boosters</th>\n",
       "      <th>total_boosters_per_hundred</th>\n",
       "    </tr>\n",
       "  </thead>\n",
       "  <tbody>\n",
       "    <tr>\n",
       "      <th>0</th>\n",
       "      <td>2021-01-12</td>\n",
       "      <td>Alabama</td>\n",
       "      <td>78134.0</td>\n",
       "      <td>377025.0</td>\n",
       "      <td>70861.0</td>\n",
       "      <td>0.15</td>\n",
       "      <td>1.59</td>\n",
       "      <td>7270.0</td>\n",
       "      <td>1.45</td>\n",
       "      <td>7.69</td>\n",
       "      <td>0.0</td>\n",
       "      <td>0.0</td>\n",
       "      <td>0.0</td>\n",
       "      <td>0.207</td>\n",
       "      <td>0.0</td>\n",
       "      <td>0.0</td>\n",
       "    </tr>\n",
       "    <tr>\n",
       "      <th>1</th>\n",
       "      <td>2021-01-13</td>\n",
       "      <td>Alabama</td>\n",
       "      <td>84040.0</td>\n",
       "      <td>378975.0</td>\n",
       "      <td>74792.0</td>\n",
       "      <td>0.19</td>\n",
       "      <td>1.71</td>\n",
       "      <td>9245.0</td>\n",
       "      <td>1.53</td>\n",
       "      <td>7.73</td>\n",
       "      <td>5906.0</td>\n",
       "      <td>5906.0</td>\n",
       "      <td>1205.0</td>\n",
       "      <td>0.222</td>\n",
       "      <td>0.0</td>\n",
       "      <td>0.0</td>\n",
       "    </tr>\n",
       "  </tbody>\n",
       "</table>\n",
       "</div>"
      ],
      "text/plain": [
       "         date location  total_vaccinations  total_distributed  \\\n",
       "0  2021-01-12  Alabama             78134.0           377025.0   \n",
       "1  2021-01-13  Alabama             84040.0           378975.0   \n",
       "\n",
       "   people_vaccinated  people_fully_vaccinated_per_hundred  \\\n",
       "0            70861.0                                 0.15   \n",
       "1            74792.0                                 0.19   \n",
       "\n",
       "   total_vaccinations_per_hundred  people_fully_vaccinated  \\\n",
       "0                            1.59                   7270.0   \n",
       "1                            1.71                   9245.0   \n",
       "\n",
       "   people_vaccinated_per_hundred  distributed_per_hundred  \\\n",
       "0                           1.45                     7.69   \n",
       "1                           1.53                     7.73   \n",
       "\n",
       "   daily_vaccinations_raw  daily_vaccinations  daily_vaccinations_per_million  \\\n",
       "0                     0.0                 0.0                             0.0   \n",
       "1                  5906.0              5906.0                          1205.0   \n",
       "\n",
       "   share_doses_used  total_boosters  total_boosters_per_hundred  \n",
       "0             0.207             0.0                         0.0  \n",
       "1             0.222             0.0                         0.0  "
      ]
     },
     "execution_count": 75,
     "metadata": {},
     "output_type": "execute_result"
    }
   ],
   "source": [
    "df = pd.read_csv('covid_dataset/us-covid19/vaccinations/us_state_vaccinations.csv')\n",
    "df = df.fillna(0)\n",
    "df.head(2)"
   ]
  },
  {
   "cell_type": "code",
   "execution_count": 76,
   "id": "9799ad7a-97c8-4004-b6f6-fa4f9dbc54df",
   "metadata": {
    "tags": []
   },
   "outputs": [
    {
     "data": {
      "text/plain": [
       "51"
      ]
     },
     "execution_count": 76,
     "metadata": {},
     "output_type": "execute_result"
    }
   ],
   "source": [
    "states = ['Alabama', 'Alaska', 'Arizona', 'Arkansas',\n",
    "       'California', 'Colorado', 'Connecticut',\n",
    "       'Delaware', 'District of Columbia',\n",
    "        'Florida', 'Georgia', \n",
    "       'Hawaii', 'Idaho', 'Illinois',  'Indiana',\n",
    "       'Iowa', 'Kansas', 'Kentucky', 'Louisiana',\n",
    "       'Maine', 'Maryland', 'Massachusetts',\n",
    "       'Michigan', 'Minnesota', 'Mississippi', 'Missouri', 'Montana',\n",
    "       'Nebraska', 'Nevada', 'New Hampshire', 'New Jersey', 'New Mexico',\n",
    "       'New York State', 'North Carolina', 'North Dakota',\n",
    "        'Ohio', 'Oklahoma', 'Oregon',\n",
    "       'Pennsylvania',   'Rhode Island',\n",
    "       'South Carolina', 'South Dakota', 'Tennessee', 'Texas',\n",
    "       'Utah', 'Vermont', \n",
    "        'Virginia', 'Washington', 'West Virginia',\n",
    "       'Wisconsin', 'Wyoming']\n",
    "len(states)"
   ]
  },
  {
   "cell_type": "code",
   "execution_count": 84,
   "id": "85575bdb-ab1a-4205-b534-043a6530219a",
   "metadata": {},
   "outputs": [],
   "source": [
    "other_states = []\n",
    "pvalues = []"
   ]
  },
  {
   "cell_type": "code",
   "execution_count": 85,
   "id": "0e915971-416f-4718-a219-1ef5ff28540f",
   "metadata": {},
   "outputs": [],
   "source": [
    "for st in states:\n",
    "    if st != 'North Carolina':\n",
    "        nc_df = list(df[df['location']=='North Carolina']['daily_vaccinations'])\n",
    "        ot_df = list(df[df['location']==st]['daily_vaccinations'])\n",
    "        w, p = mannwhitneyu(nc_df, ot_df)\n",
    "        other_states.append(st)\n",
    "        pvalues.append(round(p,4))"
   ]
  },
  {
   "cell_type": "code",
   "execution_count": 86,
   "id": "753768b4-8366-44af-8ba4-3106594fdb48",
   "metadata": {},
   "outputs": [],
   "source": [
    "my_state = ['North Carolina'] * len(other_states)\n",
    "format_pval = []\n",
    "\n",
    "for p in pvalues:\n",
    "    format_pval.append('{:.2e}'.format(p))"
   ]
  },
  {
   "cell_type": "code",
   "execution_count": 87,
   "id": "4b4572c3-5d80-46ca-a462-1fcd93721af5",
   "metadata": {},
   "outputs": [],
   "source": [
    "wilcoxon_df = pd.DataFrame(zip(my_state, other_states, pvalues), columns=['NC', 'Other', 'pvalue'])\n",
    "wilcoxon_df.to_csv('covid_dataset/state_data/wilcoxon_pvalue.csv', index=None)"
   ]
  },
  {
   "cell_type": "code",
   "execution_count": 82,
   "id": "aeeb8dfe-8cfe-4585-b8e3-5a9b043ae4b7",
   "metadata": {},
   "outputs": [
    {
     "data": {
      "text/plain": [
       "['3.85e-70',\n",
       " '5.65e-146',\n",
       " '8.68e-12',\n",
       " '4.70e-103',\n",
       " '1.84e-122',\n",
       " '2.24e-21',\n",
       " '1.41e-51',\n",
       " '1.04e-139',\n",
       " '2.22e-143',\n",
       " '1.20e-59',\n",
       " '1.94e-02',\n",
       " '8.95e-122',\n",
       " '3.07e-131',\n",
       " '2.11e-08',\n",
       " '1.13e-29',\n",
       " '1.96e-87',\n",
       " '2.90e-98',\n",
       " '4.46e-66',\n",
       " '5.98e-72',\n",
       " '3.58e-125',\n",
       " '6.60e-13',\n",
       " '2.69e-04',\n",
       " '7.25e-02',\n",
       " '1.62e-23',\n",
       " '3.40e-109',\n",
       " '1.23e-36',\n",
       " '9.18e-142',\n",
       " '3.67e-121',\n",
       " '1.85e-93',\n",
       " '7.84e-127',\n",
       " '9.19e-01',\n",
       " '2.17e-105',\n",
       " '3.30e-59',\n",
       " '9.92e-145',\n",
       " '8.36e-01',\n",
       " '5.17e-77',\n",
       " '7.65e-49',\n",
       " '8.55e-09',\n",
       " '8.41e-135',\n",
       " '1.76e-52',\n",
       " '2.76e-143',\n",
       " '2.67e-26',\n",
       " '9.71e-91',\n",
       " '1.57e-86',\n",
       " '5.47e-143',\n",
       " '8.46e-01',\n",
       " '6.52e-04',\n",
       " '5.63e-120',\n",
       " '4.92e-25',\n",
       " '3.66e-147']"
      ]
     },
     "execution_count": 82,
     "metadata": {},
     "output_type": "execute_result"
    }
   ],
   "source": [
    "format_pval"
   ]
  },
  {
   "cell_type": "code",
   "execution_count": null,
   "id": "a5e7523f-56d2-4287-a2e8-58d74724eed2",
   "metadata": {},
   "outputs": [],
   "source": []
  }
 ],
 "metadata": {
  "kernelspec": {
   "display_name": "Python 3 (ipykernel)",
   "language": "python",
   "name": "python3"
  },
  "language_info": {
   "codemirror_mode": {
    "name": "ipython",
    "version": 3
   },
   "file_extension": ".py",
   "mimetype": "text/x-python",
   "name": "python",
   "nbconvert_exporter": "python",
   "pygments_lexer": "ipython3",
   "version": "3.8.8"
  }
 },
 "nbformat": 4,
 "nbformat_minor": 5
}
