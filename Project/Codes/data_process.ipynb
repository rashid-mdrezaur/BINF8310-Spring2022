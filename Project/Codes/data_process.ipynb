{
 "cells": [
  {
   "cell_type": "code",
   "execution_count": 12,
   "id": "0959802e-9ca2-40f2-936c-728a4fc156d9",
   "metadata": {},
   "outputs": [],
   "source": [
    "import pandas as pd\n",
    "import numpy as np"
   ]
  },
  {
   "cell_type": "code",
   "execution_count": 1,
   "id": "ac854f04-26c3-481c-b45e-32b043fe6827",
   "metadata": {},
   "outputs": [],
   "source": [
    "# df = pd.read_csv('covid_dataset/covid-19-data/public/data/owid-covid-data.csv')\n",
    "\n",
    "# df = df[df['location']=='United States']\n",
    "\n",
    "# df = df.fillna(0)\n",
    "\n",
    "# df.to_csv('covid_dataset/us-covid19/us_total.csv', index = None)"
   ]
  },
  {
   "cell_type": "code",
   "execution_count": 100,
   "id": "4334603e-57e1-4fe4-9316-a2adc3327778",
   "metadata": {},
   "outputs": [],
   "source": [
    "import glob\n",
    "files =  list(glob.glob('*covid_dataset/COVID-19/csse_covid_19_data/csse_covid_19_daily_reports_us/*.csv'))"
   ]
  },
  {
   "cell_type": "code",
   "execution_count": 101,
   "id": "ae5922d9-2510-43cb-8649-addb044a9c4b",
   "metadata": {},
   "outputs": [],
   "source": [
    "list_df = []\n",
    "for f in files:\n",
    "    # filename = 'covid_dataset/COVID-19/csse_covid_19_data/csse_covid_19_daily_reports_us/04-12-2020.csv'\n",
    "    df = pd.read_csv(f)\n",
    "    date = f.replace('covid_dataset\\\\COVID-19\\\\csse_covid_19_data\\\\csse_covid_19_daily_reports_us\\\\','').replace('.csv','')\n",
    "    df = df[['Province_State', 'Confirmed', 'Deaths', 'Recovered', 'People_Hospitalized']]\n",
    "    from datetime import datetime\n",
    "    date = f.replace('covid_dataset\\\\COVID-19\\\\csse_covid_19_data\\\\csse_covid_19_daily_reports_us\\\\','').replace('.csv','')\n",
    "    datetime_object = datetime.strptime(date, '%m-%d-%Y')\n",
    "    date = str(datetime_object)[:10]\n",
    "    df['date'] = [date]*len(df)\n",
    "    df['Mortality'] = df['Deaths']/df['Confirmed']\n",
    "    df = df.fillna(0)\n",
    "    list_df.append(df)"
   ]
  },
  {
   "cell_type": "code",
   "execution_count": 102,
   "id": "04e75ae1-41f6-4b87-86d7-69383ef365ea",
   "metadata": {},
   "outputs": [],
   "source": [
    "us_df = pd.concat(list_df, axis=0)"
   ]
  },
  {
   "cell_type": "code",
   "execution_count": 103,
   "id": "a224b60f-af10-423d-af09-728a95385b26",
   "metadata": {},
   "outputs": [],
   "source": [
    "us_df.to_csv('covid_dataset/us-covid19/state_covid_data.csv', index=None)"
   ]
  },
  {
   "cell_type": "code",
   "execution_count": null,
   "id": "37740baf-0034-4272-9d34-bdd458a077c9",
   "metadata": {},
   "outputs": [],
   "source": []
  }
 ],
 "metadata": {
  "kernelspec": {
   "display_name": "Python 3 (ipykernel)",
   "language": "python",
   "name": "python3"
  },
  "language_info": {
   "codemirror_mode": {
    "name": "ipython",
    "version": 3
   },
   "file_extension": ".py",
   "mimetype": "text/x-python",
   "name": "python",
   "nbconvert_exporter": "python",
   "pygments_lexer": "ipython3",
   "version": "3.8.8"
  }
 },
 "nbformat": 4,
 "nbformat_minor": 5
}
