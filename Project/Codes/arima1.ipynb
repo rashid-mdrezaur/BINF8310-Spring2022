{
 "cells": [
  {
   "cell_type": "code",
   "execution_count": 1,
   "id": "a4a38713-3ad9-49aa-b5f5-0a09db143689",
   "metadata": {},
   "outputs": [],
   "source": [
    "import pandas as pd\n",
    "import numpy as np"
   ]
  },
  {
   "cell_type": "code",
   "execution_count": 2,
   "id": "1c287b89-6e01-4a2a-8336-50b6806e01a9",
   "metadata": {},
   "outputs": [],
   "source": [
    "from matplotlib import pyplot as plt"
   ]
  },
  {
   "cell_type": "code",
   "execution_count": 3,
   "id": "8de6f610-9325-4017-99f2-be84bd934701",
   "metadata": {},
   "outputs": [],
   "source": [
    "us_time_series = pd.read_csv('covid_dataset/COVID-19/csse_covid_19_data/csse_covid_19_time_series/time_series_covid19_confirmed_US.csv')\n",
    "us_time_series = us_time_series.drop(['UID','iso2','iso3','code3','FIPS','Admin2','Country_Region','Lat','Long_', 'Combined_Key'],axis=1)"
   ]
  },
  {
   "cell_type": "code",
   "execution_count": 4,
   "id": "c4007ddc-2750-4bf7-b206-86e4f56d3ec2",
   "metadata": {},
   "outputs": [
    {
     "data": {
      "text/html": [
       "<div>\n",
       "<style scoped>\n",
       "    .dataframe tbody tr th:only-of-type {\n",
       "        vertical-align: middle;\n",
       "    }\n",
       "\n",
       "    .dataframe tbody tr th {\n",
       "        vertical-align: top;\n",
       "    }\n",
       "\n",
       "    .dataframe thead th {\n",
       "        text-align: right;\n",
       "    }\n",
       "</style>\n",
       "<table border=\"1\" class=\"dataframe\">\n",
       "  <thead>\n",
       "    <tr style=\"text-align: right;\">\n",
       "      <th></th>\n",
       "      <th>Province_State</th>\n",
       "      <th>1/22/20</th>\n",
       "      <th>1/23/20</th>\n",
       "      <th>1/24/20</th>\n",
       "      <th>1/25/20</th>\n",
       "      <th>1/26/20</th>\n",
       "      <th>1/27/20</th>\n",
       "      <th>1/28/20</th>\n",
       "      <th>1/29/20</th>\n",
       "      <th>1/30/20</th>\n",
       "      <th>...</th>\n",
       "      <th>3/25/22</th>\n",
       "      <th>3/26/22</th>\n",
       "      <th>3/27/22</th>\n",
       "      <th>3/28/22</th>\n",
       "      <th>3/29/22</th>\n",
       "      <th>3/30/22</th>\n",
       "      <th>3/31/22</th>\n",
       "      <th>4/1/22</th>\n",
       "      <th>4/2/22</th>\n",
       "      <th>4/3/22</th>\n",
       "    </tr>\n",
       "  </thead>\n",
       "  <tbody>\n",
       "    <tr>\n",
       "      <th>0</th>\n",
       "      <td>Alabama</td>\n",
       "      <td>0</td>\n",
       "      <td>0</td>\n",
       "      <td>0</td>\n",
       "      <td>0</td>\n",
       "      <td>0</td>\n",
       "      <td>0</td>\n",
       "      <td>0</td>\n",
       "      <td>0</td>\n",
       "      <td>0</td>\n",
       "      <td>...</td>\n",
       "      <td>15611</td>\n",
       "      <td>15611</td>\n",
       "      <td>15611</td>\n",
       "      <td>15616</td>\n",
       "      <td>15619</td>\n",
       "      <td>15621</td>\n",
       "      <td>15655</td>\n",
       "      <td>15655</td>\n",
       "      <td>15659</td>\n",
       "      <td>15659</td>\n",
       "    </tr>\n",
       "    <tr>\n",
       "      <th>1</th>\n",
       "      <td>Alabama</td>\n",
       "      <td>0</td>\n",
       "      <td>0</td>\n",
       "      <td>0</td>\n",
       "      <td>0</td>\n",
       "      <td>0</td>\n",
       "      <td>0</td>\n",
       "      <td>0</td>\n",
       "      <td>0</td>\n",
       "      <td>0</td>\n",
       "      <td>...</td>\n",
       "      <td>55373</td>\n",
       "      <td>55373</td>\n",
       "      <td>55373</td>\n",
       "      <td>55385</td>\n",
       "      <td>55392</td>\n",
       "      <td>55408</td>\n",
       "      <td>55414</td>\n",
       "      <td>55414</td>\n",
       "      <td>55420</td>\n",
       "      <td>55420</td>\n",
       "    </tr>\n",
       "    <tr>\n",
       "      <th>2</th>\n",
       "      <td>Alabama</td>\n",
       "      <td>0</td>\n",
       "      <td>0</td>\n",
       "      <td>0</td>\n",
       "      <td>0</td>\n",
       "      <td>0</td>\n",
       "      <td>0</td>\n",
       "      <td>0</td>\n",
       "      <td>0</td>\n",
       "      <td>0</td>\n",
       "      <td>...</td>\n",
       "      <td>5478</td>\n",
       "      <td>5478</td>\n",
       "      <td>5478</td>\n",
       "      <td>5655</td>\n",
       "      <td>5656</td>\n",
       "      <td>5656</td>\n",
       "      <td>5656</td>\n",
       "      <td>5656</td>\n",
       "      <td>5656</td>\n",
       "      <td>5656</td>\n",
       "    </tr>\n",
       "    <tr>\n",
       "      <th>3</th>\n",
       "      <td>Alabama</td>\n",
       "      <td>0</td>\n",
       "      <td>0</td>\n",
       "      <td>0</td>\n",
       "      <td>0</td>\n",
       "      <td>0</td>\n",
       "      <td>0</td>\n",
       "      <td>0</td>\n",
       "      <td>0</td>\n",
       "      <td>0</td>\n",
       "      <td>...</td>\n",
       "      <td>6415</td>\n",
       "      <td>6415</td>\n",
       "      <td>6415</td>\n",
       "      <td>6416</td>\n",
       "      <td>6417</td>\n",
       "      <td>6418</td>\n",
       "      <td>6418</td>\n",
       "      <td>6418</td>\n",
       "      <td>6417</td>\n",
       "      <td>6417</td>\n",
       "    </tr>\n",
       "    <tr>\n",
       "      <th>4</th>\n",
       "      <td>Alabama</td>\n",
       "      <td>0</td>\n",
       "      <td>0</td>\n",
       "      <td>0</td>\n",
       "      <td>0</td>\n",
       "      <td>0</td>\n",
       "      <td>0</td>\n",
       "      <td>0</td>\n",
       "      <td>0</td>\n",
       "      <td>0</td>\n",
       "      <td>...</td>\n",
       "      <td>14896</td>\n",
       "      <td>14896</td>\n",
       "      <td>14896</td>\n",
       "      <td>14898</td>\n",
       "      <td>14899</td>\n",
       "      <td>14899</td>\n",
       "      <td>14900</td>\n",
       "      <td>14900</td>\n",
       "      <td>14901</td>\n",
       "      <td>14901</td>\n",
       "    </tr>\n",
       "  </tbody>\n",
       "</table>\n",
       "<p>5 rows × 804 columns</p>\n",
       "</div>"
      ],
      "text/plain": [
       "  Province_State  1/22/20  1/23/20  1/24/20  1/25/20  1/26/20  1/27/20  \\\n",
       "0        Alabama        0        0        0        0        0        0   \n",
       "1        Alabama        0        0        0        0        0        0   \n",
       "2        Alabama        0        0        0        0        0        0   \n",
       "3        Alabama        0        0        0        0        0        0   \n",
       "4        Alabama        0        0        0        0        0        0   \n",
       "\n",
       "   1/28/20  1/29/20  1/30/20  ...  3/25/22  3/26/22  3/27/22  3/28/22  \\\n",
       "0        0        0        0  ...    15611    15611    15611    15616   \n",
       "1        0        0        0  ...    55373    55373    55373    55385   \n",
       "2        0        0        0  ...     5478     5478     5478     5655   \n",
       "3        0        0        0  ...     6415     6415     6415     6416   \n",
       "4        0        0        0  ...    14896    14896    14896    14898   \n",
       "\n",
       "   3/29/22  3/30/22  3/31/22  4/1/22  4/2/22  4/3/22  \n",
       "0    15619    15621    15655   15655   15659   15659  \n",
       "1    55392    55408    55414   55414   55420   55420  \n",
       "2     5656     5656     5656    5656    5656    5656  \n",
       "3     6417     6418     6418    6418    6417    6417  \n",
       "4    14899    14899    14900   14900   14901   14901  \n",
       "\n",
       "[5 rows x 804 columns]"
      ]
     },
     "execution_count": 4,
     "metadata": {},
     "output_type": "execute_result"
    }
   ],
   "source": [
    "us_time_series.head()"
   ]
  },
  {
   "cell_type": "code",
   "execution_count": 5,
   "id": "493b07be-4e0f-4692-a831-aa0ecfb3a6e7",
   "metadata": {},
   "outputs": [
    {
     "data": {
      "text/html": [
       "<div>\n",
       "<style scoped>\n",
       "    .dataframe tbody tr th:only-of-type {\n",
       "        vertical-align: middle;\n",
       "    }\n",
       "\n",
       "    .dataframe tbody tr th {\n",
       "        vertical-align: top;\n",
       "    }\n",
       "\n",
       "    .dataframe thead th {\n",
       "        text-align: right;\n",
       "    }\n",
       "</style>\n",
       "<table border=\"1\" class=\"dataframe\">\n",
       "  <thead>\n",
       "    <tr style=\"text-align: right;\">\n",
       "      <th></th>\n",
       "      <th>Province_State</th>\n",
       "      <th>3/11/20</th>\n",
       "      <th>3/12/20</th>\n",
       "      <th>3/13/20</th>\n",
       "      <th>3/14/20</th>\n",
       "      <th>3/15/20</th>\n",
       "      <th>3/16/20</th>\n",
       "      <th>3/17/20</th>\n",
       "      <th>3/18/20</th>\n",
       "      <th>3/19/20</th>\n",
       "      <th>...</th>\n",
       "      <th>3/25/22</th>\n",
       "      <th>3/26/22</th>\n",
       "      <th>3/27/22</th>\n",
       "      <th>3/28/22</th>\n",
       "      <th>3/29/22</th>\n",
       "      <th>3/30/22</th>\n",
       "      <th>3/31/22</th>\n",
       "      <th>4/1/22</th>\n",
       "      <th>4/2/22</th>\n",
       "      <th>4/3/22</th>\n",
       "    </tr>\n",
       "  </thead>\n",
       "  <tbody>\n",
       "    <tr>\n",
       "      <th>0</th>\n",
       "      <td>Alabama</td>\n",
       "      <td>0</td>\n",
       "      <td>0</td>\n",
       "      <td>0</td>\n",
       "      <td>0</td>\n",
       "      <td>0</td>\n",
       "      <td>0</td>\n",
       "      <td>0</td>\n",
       "      <td>0</td>\n",
       "      <td>0</td>\n",
       "      <td>...</td>\n",
       "      <td>15611</td>\n",
       "      <td>15611</td>\n",
       "      <td>15611</td>\n",
       "      <td>15616</td>\n",
       "      <td>15619</td>\n",
       "      <td>15621</td>\n",
       "      <td>15655</td>\n",
       "      <td>15655</td>\n",
       "      <td>15659</td>\n",
       "      <td>15659</td>\n",
       "    </tr>\n",
       "    <tr>\n",
       "      <th>1</th>\n",
       "      <td>Alabama</td>\n",
       "      <td>0</td>\n",
       "      <td>0</td>\n",
       "      <td>0</td>\n",
       "      <td>0</td>\n",
       "      <td>1</td>\n",
       "      <td>1</td>\n",
       "      <td>1</td>\n",
       "      <td>1</td>\n",
       "      <td>1</td>\n",
       "      <td>...</td>\n",
       "      <td>55373</td>\n",
       "      <td>55373</td>\n",
       "      <td>55373</td>\n",
       "      <td>55385</td>\n",
       "      <td>55392</td>\n",
       "      <td>55408</td>\n",
       "      <td>55414</td>\n",
       "      <td>55414</td>\n",
       "      <td>55420</td>\n",
       "      <td>55420</td>\n",
       "    </tr>\n",
       "    <tr>\n",
       "      <th>2</th>\n",
       "      <td>Alabama</td>\n",
       "      <td>0</td>\n",
       "      <td>0</td>\n",
       "      <td>0</td>\n",
       "      <td>0</td>\n",
       "      <td>0</td>\n",
       "      <td>0</td>\n",
       "      <td>0</td>\n",
       "      <td>0</td>\n",
       "      <td>0</td>\n",
       "      <td>...</td>\n",
       "      <td>5478</td>\n",
       "      <td>5478</td>\n",
       "      <td>5478</td>\n",
       "      <td>5655</td>\n",
       "      <td>5656</td>\n",
       "      <td>5656</td>\n",
       "      <td>5656</td>\n",
       "      <td>5656</td>\n",
       "      <td>5656</td>\n",
       "      <td>5656</td>\n",
       "    </tr>\n",
       "    <tr>\n",
       "      <th>3</th>\n",
       "      <td>Alabama</td>\n",
       "      <td>0</td>\n",
       "      <td>0</td>\n",
       "      <td>0</td>\n",
       "      <td>0</td>\n",
       "      <td>0</td>\n",
       "      <td>0</td>\n",
       "      <td>0</td>\n",
       "      <td>0</td>\n",
       "      <td>0</td>\n",
       "      <td>...</td>\n",
       "      <td>6415</td>\n",
       "      <td>6415</td>\n",
       "      <td>6415</td>\n",
       "      <td>6416</td>\n",
       "      <td>6417</td>\n",
       "      <td>6418</td>\n",
       "      <td>6418</td>\n",
       "      <td>6418</td>\n",
       "      <td>6417</td>\n",
       "      <td>6417</td>\n",
       "    </tr>\n",
       "    <tr>\n",
       "      <th>4</th>\n",
       "      <td>Alabama</td>\n",
       "      <td>0</td>\n",
       "      <td>0</td>\n",
       "      <td>0</td>\n",
       "      <td>0</td>\n",
       "      <td>0</td>\n",
       "      <td>0</td>\n",
       "      <td>0</td>\n",
       "      <td>0</td>\n",
       "      <td>0</td>\n",
       "      <td>...</td>\n",
       "      <td>14896</td>\n",
       "      <td>14896</td>\n",
       "      <td>14896</td>\n",
       "      <td>14898</td>\n",
       "      <td>14899</td>\n",
       "      <td>14899</td>\n",
       "      <td>14900</td>\n",
       "      <td>14900</td>\n",
       "      <td>14901</td>\n",
       "      <td>14901</td>\n",
       "    </tr>\n",
       "  </tbody>\n",
       "</table>\n",
       "<p>5 rows × 755 columns</p>\n",
       "</div>"
      ],
      "text/plain": [
       "  Province_State  3/11/20  3/12/20  3/13/20  3/14/20  3/15/20  3/16/20  \\\n",
       "0        Alabama        0        0        0        0        0        0   \n",
       "1        Alabama        0        0        0        0        1        1   \n",
       "2        Alabama        0        0        0        0        0        0   \n",
       "3        Alabama        0        0        0        0        0        0   \n",
       "4        Alabama        0        0        0        0        0        0   \n",
       "\n",
       "   3/17/20  3/18/20  3/19/20  ...  3/25/22  3/26/22  3/27/22  3/28/22  \\\n",
       "0        0        0        0  ...    15611    15611    15611    15616   \n",
       "1        1        1        1  ...    55373    55373    55373    55385   \n",
       "2        0        0        0  ...     5478     5478     5478     5655   \n",
       "3        0        0        0  ...     6415     6415     6415     6416   \n",
       "4        0        0        0  ...    14896    14896    14896    14898   \n",
       "\n",
       "   3/29/22  3/30/22  3/31/22  4/1/22  4/2/22  4/3/22  \n",
       "0    15619    15621    15655   15655   15659   15659  \n",
       "1    55392    55408    55414   55414   55420   55420  \n",
       "2     5656     5656     5656    5656    5656    5656  \n",
       "3     6417     6418     6418    6418    6417    6417  \n",
       "4    14899    14899    14900   14900   14901   14901  \n",
       "\n",
       "[5 rows x 755 columns]"
      ]
     },
     "execution_count": 5,
     "metadata": {},
     "output_type": "execute_result"
    }
   ],
   "source": [
    "us_time_series = us_time_series.drop(us_time_series.columns[[*range(1,50)]],axis=1)\n",
    "us_time_series.head()"
   ]
  },
  {
   "cell_type": "code",
   "execution_count": 6,
   "id": "cbc69022-59cb-4df2-acf4-50a446c0cdf0",
   "metadata": {},
   "outputs": [],
   "source": [
    "nc_time_series = us_time_series[us_time_series['Province_State']=='North Carolina']"
   ]
  },
  {
   "cell_type": "code",
   "execution_count": 7,
   "id": "7c72885c-4440-4700-9cdc-89c766154d2f",
   "metadata": {},
   "outputs": [],
   "source": [
    "case_data = nc_time_series.iloc[0,1:]"
   ]
  },
  {
   "cell_type": "code",
   "execution_count": 8,
   "id": "11bbe57e-bbea-4333-8db5-101d164d5b7a",
   "metadata": {},
   "outputs": [],
   "source": [
    "case_date = list(nc_time_series.columns)[1:]"
   ]
  },
  {
   "cell_type": "code",
   "execution_count": 9,
   "id": "7d20aace-6ce3-4b02-bf69-e218ccbf0ac0",
   "metadata": {},
   "outputs": [],
   "source": [
    "data = pd.DataFrame(zip(case_date, case_data), columns=['dates', '#cases'])"
   ]
  },
  {
   "cell_type": "code",
   "execution_count": 10,
   "id": "5e70edb3-367b-4908-a695-591ffadf6828",
   "metadata": {},
   "outputs": [
    {
     "data": {
      "text/plain": [
       "DatetimeIndex(['2020-03-11', '2020-03-12', '2020-03-13', '2020-03-14',\n",
       "               '2020-03-15', '2020-03-16', '2020-03-17', '2020-03-18',\n",
       "               '2020-03-19', '2020-03-20',\n",
       "               ...\n",
       "               '2022-03-25', '2022-03-26', '2022-03-27', '2022-03-28',\n",
       "               '2022-03-29', '2022-03-30', '2022-03-31', '2022-04-01',\n",
       "               '2022-04-02', '2022-04-03'],\n",
       "              dtype='datetime64[ns]', name='dates', length=754, freq=None)"
      ]
     },
     "execution_count": 10,
     "metadata": {},
     "output_type": "execute_result"
    }
   ],
   "source": [
    "from datetime import datetime\n",
    "con=data['dates']\n",
    "data['dates']=pd.to_datetime(data['dates'])\n",
    "data.set_index('dates', inplace=True)\n",
    "#check datatype of index\n",
    "data.index"
   ]
  },
  {
   "cell_type": "code",
   "execution_count": 11,
   "id": "9b4d9541-d8f8-4c9a-b57a-fb17c3da2db4",
   "metadata": {},
   "outputs": [
    {
     "data": {
      "text/plain": [
       "dates\n",
       "2020-03-11    0\n",
       "2020-03-12    0\n",
       "2020-03-13    0\n",
       "2020-03-14    0\n",
       "2020-03-15    0\n",
       "2020-03-16    0\n",
       "2020-03-17    0\n",
       "2020-03-18    0\n",
       "2020-03-19    1\n",
       "2020-03-20    1\n",
       "Name: #cases, dtype: int64"
      ]
     },
     "execution_count": 11,
     "metadata": {},
     "output_type": "execute_result"
    }
   ],
   "source": [
    "#convert to time series:\n",
    "ts = data['#cases']\n",
    "ts.head(10)"
   ]
  },
  {
   "cell_type": "code",
   "execution_count": 12,
   "id": "fcd84575-c7e5-477c-9640-cd7820a33cb3",
   "metadata": {},
   "outputs": [
    {
     "data": {
      "text/plain": [
       "[<matplotlib.lines.Line2D at 0x21904e3f2e0>]"
      ]
     },
     "execution_count": 12,
     "metadata": {},
     "output_type": "execute_result"
    },
    {
     "data": {
      "image/png": "[encoded data removed]",
      "text/plain": [
       "<Figure size 432x288 with 1 Axes>"
      ]
     },
     "metadata": {
      "needs_background": "light"
     },
     "output_type": "display_data"
    }
   ],
   "source": [
    "plt.plot(ts)"
   ]
  },
  {
   "cell_type": "code",
   "execution_count": 13,
   "id": "4ae4f62c-53c0-4750-b34f-39ff15ae3c58",
   "metadata": {},
   "outputs": [],
   "source": [
    "from statsmodels.tsa.stattools import adfuller\n",
    "def test_stationarity(timeseries):\n",
    "    \n",
    "    #Determing rolling statistics\n",
    "    rolmean = timeseries.rolling(12).mean()\n",
    "    rolstd = timeseries.rolling(12).std()\n",
    "#Plot rolling statistics:\n",
    "    plt.plot(timeseries, color='blue',label='Original')\n",
    "    plt.plot(rolmean, color='red', label='Rolling Mean')\n",
    "    plt.plot(rolstd, color='black', label = 'Rolling Std')\n",
    "    plt.legend(loc='best')\n",
    "    plt.title('Rolling Mean & Standard Deviation')\n",
    "    plt.show()\n",
    "    #Perform Dickey-Fuller test:\n",
    "    print('Results of Dickey-Fuller Test:')\n",
    "    dftest = adfuller(timeseries, autolag='AIC')\n",
    "    dfoutput = pd.Series(dftest[0:4], index=['Test Statistic','p-value','#Lags Used','Number of Observations Used'])\n",
    "    for key,value in dftest[4].items():\n",
    "        dfoutput['Critical Value (%s)'%key] = value\n",
    "    print(dfoutput)"
   ]
  },
  {
   "cell_type": "code",
   "execution_count": 14,
   "id": "e95cf96e-6a16-4055-af1e-cfc4178d8ef4",
   "metadata": {},
   "outputs": [
    {
     "data": {
      "image/png": "[encoded data removed]",
      "text/plain": [
       "<Figure size 432x288 with 1 Axes>"
      ]
     },
     "metadata": {
      "needs_background": "light"
     },
     "output_type": "display_data"
    },
    {
     "name": "stdout",
     "output_type": "stream",
     "text": [
      "Results of Dickey-Fuller Test:\n",
      "Test Statistic                   1.839603\n",
      "p-value                          0.998424\n",
      "#Lags Used                      20.000000\n",
      "Number of Observations Used    733.000000\n",
      "Critical Value (1%)             -3.439303\n",
      "Critical Value (5%)             -2.865491\n",
      "Critical Value (10%)            -2.568874\n",
      "dtype: float64\n"
     ]
    }
   ],
   "source": [
    "test_stationarity(ts)"
   ]
  },
  {
   "cell_type": "code",
   "execution_count": 15,
   "id": "d6ef4bc4-1067-44d7-a07f-54ea19dc2136",
   "metadata": {},
   "outputs": [
    {
     "name": "stderr",
     "output_type": "stream",
     "text": [
      "C:\\ProgramData\\Anaconda3\\lib\\site-packages\\pandas\\core\\arraylike.py:397: RuntimeWarning: divide by zero encountered in log\n",
      "  result = getattr(ufunc, method)(*inputs, **kwargs)\n"
     ]
    },
    {
     "data": {
      "text/plain": [
       "[<matplotlib.lines.Line2D at 0x2190afbb7c0>]"
      ]
     },
     "execution_count": 15,
     "metadata": {},
     "output_type": "execute_result"
    },
    {
     "data": {
      "image/png": "[encoded data removed]",
      "text/plain": [
       "<Figure size 432x288 with 1 Axes>"
      ]
     },
     "metadata": {
      "needs_background": "light"
     },
     "output_type": "display_data"
    }
   ],
   "source": [
    "ts_log = np.log(ts)\n",
    "plt.plot(ts_log)"
   ]
  },
  {
   "cell_type": "code",
   "execution_count": 16,
   "id": "afe0459a-219a-4dde-841f-8e91d8d51a5f",
   "metadata": {},
   "outputs": [],
   "source": [
    "ts_log.replace([np.inf, -np.inf], np.nan, inplace=True)\n",
    "ts_log.dropna(inplace=True)"
   ]
  },
  {
   "cell_type": "code",
   "execution_count": 17,
   "id": "b3804b9b-3559-4893-8fe6-e95dd83f0b18",
   "metadata": {},
   "outputs": [
    {
     "data": {
      "text/plain": [
       "[<matplotlib.lines.Line2D at 0x2190fb6d6a0>]"
      ]
     },
     "execution_count": 17,
     "metadata": {},
     "output_type": "execute_result"
    },
    {
     "data": {
      "image/png": "[encoded data removed]",
      "text/plain": [
       "<Figure size 432x288 with 1 Axes>"
      ]
     },
     "metadata": {
      "needs_background": "light"
     },
     "output_type": "display_data"
    }
   ],
   "source": [
    "moving_avg = ts_log.rolling(12).mean()\n",
    "plt.plot(ts_log)\n",
    "plt.plot(moving_avg, color='r')"
   ]
  },
  {
   "cell_type": "code",
   "execution_count": 18,
   "id": "cfd0c97c-872f-4cdc-bd2e-8f782904d3ed",
   "metadata": {},
   "outputs": [
    {
     "data": {
      "text/plain": [
       "dates\n",
       "2020-03-19         NaN\n",
       "2020-03-20         NaN\n",
       "2020-03-21         NaN\n",
       "2020-03-22         NaN\n",
       "2020-03-23         NaN\n",
       "2020-03-24         NaN\n",
       "2020-03-25         NaN\n",
       "2020-03-26         NaN\n",
       "2020-03-27         NaN\n",
       "2020-03-28         NaN\n",
       "2020-03-29         NaN\n",
       "2020-03-30    0.990997\n",
       "Name: #cases, dtype: float64"
      ]
     },
     "execution_count": 18,
     "metadata": {},
     "output_type": "execute_result"
    }
   ],
   "source": [
    "ts_log_moving_avg_diff = ts_log - moving_avg\n",
    "ts_log_moving_avg_diff.head(12)"
   ]
  },
  {
   "cell_type": "code",
   "execution_count": 19,
   "id": "88ce29bc-43ea-42d7-aea1-a1d9c54dd6ab",
   "metadata": {},
   "outputs": [
    {
     "data": {
      "text/plain": [
       "dates\n",
       "2020-03-30    0.990997\n",
       "2020-03-31    0.925678\n",
       "2020-04-01    1.147589\n",
       "2020-04-02    1.215801\n",
       "2020-04-03    1.032699\n",
       "Name: #cases, dtype: float64"
      ]
     },
     "execution_count": 19,
     "metadata": {},
     "output_type": "execute_result"
    }
   ],
   "source": [
    "ts_log_moving_avg_diff.dropna(inplace=True)\n",
    "ts_log_moving_avg_diff.head()"
   ]
  },
  {
   "cell_type": "code",
   "execution_count": 20,
   "id": "652f5637-ff67-43b4-a0c4-ec06489a9ef0",
   "metadata": {},
   "outputs": [
    {
     "data": {
      "image/png": "[encoded data removed]",
      "text/plain": [
       "<Figure size 432x288 with 1 Axes>"
      ]
     },
     "metadata": {
      "needs_background": "light"
     },
     "output_type": "display_data"
    },
    {
     "name": "stdout",
     "output_type": "stream",
     "text": [
      "Results of Dickey-Fuller Test:\n",
      "Test Statistic                  -4.375633\n",
      "p-value                          0.000328\n",
      "#Lags Used                      19.000000\n",
      "Number of Observations Used    715.000000\n",
      "Critical Value (1%)             -3.439529\n",
      "Critical Value (5%)             -2.865591\n",
      "Critical Value (10%)            -2.568927\n",
      "dtype: float64\n"
     ]
    }
   ],
   "source": [
    "test_stationarity(ts_log_moving_avg_diff)"
   ]
  },
  {
   "cell_type": "code",
   "execution_count": 21,
   "id": "3370966d-1129-4503-855c-824ab285787a",
   "metadata": {},
   "outputs": [
    {
     "data": {
      "text/plain": [
       "[<matplotlib.lines.Line2D at 0x2190fc4afa0>]"
      ]
     },
     "execution_count": 21,
     "metadata": {},
     "output_type": "execute_result"
    },
    {
     "data": {
      "image/png": "[encoded data removed]",
      "text/plain": [
       "<Figure size 432x288 with 1 Axes>"
      ]
     },
     "metadata": {
      "needs_background": "light"
     },
     "output_type": "display_data"
    }
   ],
   "source": [
    "ts_log_diff = ts_log - ts_log.shift()\n",
    "plt.plot(ts_log_diff)"
   ]
  },
  {
   "cell_type": "code",
   "execution_count": 22,
   "id": "aa73d2b5-e387-4c85-abf5-75a47ccaa672",
   "metadata": {},
   "outputs": [],
   "source": [
    "# ts_log_diff.dropna(inplace=True)\n",
    "# test_stationarity(ts_log_diff)"
   ]
  },
  {
   "cell_type": "code",
   "execution_count": 23,
   "id": "67c07462-443a-4477-87bf-0fc944529cfc",
   "metadata": {},
   "outputs": [],
   "source": [
    "from statsmodels.tsa.arima.model import ARIMA\n",
    "from statsmodels.tsa.stattools import acf, pacf"
   ]
  },
  {
   "cell_type": "code",
   "execution_count": 24,
   "id": "557f92a0-2d2b-4ab3-85f6-3990c829d200",
   "metadata": {},
   "outputs": [],
   "source": [
    "lag_acf = acf(ts_log, nlags=20)\n",
    "lag_pacf = pacf(ts_log, nlags=20, method='ols')"
   ]
  },
  {
   "cell_type": "code",
   "execution_count": 25,
   "id": "bd63e329-5c68-4351-a744-34a186975efc",
   "metadata": {},
   "outputs": [
    {
     "name": "stderr",
     "output_type": "stream",
     "text": [
      "C:\\ProgramData\\Anaconda3\\lib\\site-packages\\statsmodels\\tsa\\base\\tsa_model.py:471: ValueWarning: No frequency information was provided, so inferred frequency D will be used.\n",
      "  self._init_dates(dates, freq)\n",
      "C:\\ProgramData\\Anaconda3\\lib\\site-packages\\statsmodels\\tsa\\base\\tsa_model.py:471: ValueWarning: No frequency information was provided, so inferred frequency D will be used.\n",
      "  self._init_dates(dates, freq)\n",
      "C:\\ProgramData\\Anaconda3\\lib\\site-packages\\statsmodels\\tsa\\base\\tsa_model.py:471: ValueWarning: No frequency information was provided, so inferred frequency D will be used.\n",
      "  self._init_dates(dates, freq)\n"
     ]
    }
   ],
   "source": [
    "model = ARIMA(ts_log_diff, order = (1,1,1))"
   ]
  },
  {
   "cell_type": "code",
   "execution_count": 26,
   "id": "157e6b55-8d9f-486c-9172-e7efaf5d1850",
   "metadata": {},
   "outputs": [],
   "source": [
    "results = model.fit()"
   ]
  },
  {
   "cell_type": "code",
   "execution_count": 37,
   "id": "9730b354-a16f-44d2-96e2-b9471fa461cf",
   "metadata": {},
   "outputs": [
    {
     "data": {
      "image/png": "[encoded data removed]",
      "text/plain": [
       "<Figure size 1440x576 with 1 Axes>"
      ]
     },
     "metadata": {
      "needs_background": "light"
     },
     "output_type": "display_data"
    }
   ],
   "source": [
    "plt.figure(figsize=(20,8))\n",
    "plt.plot(ts_log_diff, label = 'Original cases')\n",
    "plt.plot(results.fittedvalues, label = 'Forecasted cases')\n",
    "plt.legend(loc='upper right')\n",
    "plt.tight_layout()\n",
    "plt.savefig('figures/arima.pdf')"
   ]
  },
  {
   "cell_type": "code",
   "execution_count": 28,
   "id": "4d4b060c-274e-4815-be6a-55f88d7cbac2",
   "metadata": {},
   "outputs": [
    {
     "data": {
      "text/html": [
       "<table class=\"simpletable\">\n",
       "<caption>SARIMAX Results</caption>\n",
       "<tr>\n",
       "  <th>Dep. Variable:</th>        <td>#cases</td>      <th>  No. Observations:  </th>    <td>746</td>   \n",
       "</tr>\n",
       "<tr>\n",
       "  <th>Model:</th>            <td>ARIMA(1, 1, 1)</td>  <th>  Log Likelihood     </th> <td>1388.332</td> \n",
       "</tr>\n",
       "<tr>\n",
       "  <th>Date:</th>            <td>Sun, 10 Apr 2022</td> <th>  AIC                </th> <td>-2770.664</td>\n",
       "</tr>\n",
       "<tr>\n",
       "  <th>Time:</th>                <td>23:11:47</td>     <th>  BIC                </th> <td>-2756.824</td>\n",
       "</tr>\n",
       "<tr>\n",
       "  <th>Sample:</th>             <td>03-19-2020</td>    <th>  HQIC               </th> <td>-2765.330</td>\n",
       "</tr>\n",
       "<tr>\n",
       "  <th></th>                   <td>- 04-03-2022</td>   <th>                     </th>     <td> </td>    \n",
       "</tr>\n",
       "<tr>\n",
       "  <th>Covariance Type:</th>        <td>opg</td>       <th>                     </th>     <td> </td>    \n",
       "</tr>\n",
       "</table>\n",
       "<table class=\"simpletable\">\n",
       "<tr>\n",
       "     <td></td>       <th>coef</th>     <th>std err</th>      <th>z</th>      <th>P>|z|</th>  <th>[0.025</th>    <th>0.975]</th>  \n",
       "</tr>\n",
       "<tr>\n",
       "  <th>ar.L1</th>  <td>   -0.2008</td> <td>    0.007</td> <td>  -30.390</td> <td> 0.000</td> <td>   -0.214</td> <td>   -0.188</td>\n",
       "</tr>\n",
       "<tr>\n",
       "  <th>ma.L1</th>  <td>   -0.8659</td> <td>    0.010</td> <td>  -88.033</td> <td> 0.000</td> <td>   -0.885</td> <td>   -0.847</td>\n",
       "</tr>\n",
       "<tr>\n",
       "  <th>sigma2</th> <td>    0.0014</td> <td> 1.66e-05</td> <td>   82.415</td> <td> 0.000</td> <td>    0.001</td> <td>    0.001</td>\n",
       "</tr>\n",
       "</table>\n",
       "<table class=\"simpletable\">\n",
       "<tr>\n",
       "  <th>Ljung-Box (L1) (Q):</th>     <td>2.65</td> <th>  Jarque-Bera (JB):  </th> <td>125984.40</td>\n",
       "</tr>\n",
       "<tr>\n",
       "  <th>Prob(Q):</th>                <td>0.10</td> <th>  Prob(JB):          </th>   <td>0.00</td>   \n",
       "</tr>\n",
       "<tr>\n",
       "  <th>Heteroskedasticity (H):</th> <td>0.01</td> <th>  Skew:              </th>   <td>2.86</td>   \n",
       "</tr>\n",
       "<tr>\n",
       "  <th>Prob(H) (two-sided):</th>    <td>0.00</td> <th>  Kurtosis:          </th>   <td>66.45</td>  \n",
       "</tr>\n",
       "</table><br/><br/>Warnings:<br/>[1] Covariance matrix calculated using the outer product of gradients (complex-step)."
      ],
      "text/plain": [
       "<class 'statsmodels.iolib.summary.Summary'>\n",
       "\"\"\"\n",
       "                               SARIMAX Results                                \n",
       "==============================================================================\n",
       "Dep. Variable:                 #cases   No. Observations:                  746\n",
       "Model:                 ARIMA(1, 1, 1)   Log Likelihood                1388.332\n",
       "Date:                Sun, 10 Apr 2022   AIC                          -2770.664\n",
       "Time:                        23:11:47   BIC                          -2756.824\n",
       "Sample:                    03-19-2020   HQIC                         -2765.330\n",
       "                         - 04-03-2022                                         \n",
       "Covariance Type:                  opg                                         \n",
       "==============================================================================\n",
       "                 coef    std err          z      P>|z|      [0.025      0.975]\n",
       "------------------------------------------------------------------------------\n",
       "ar.L1         -0.2008      0.007    -30.390      0.000      -0.214      -0.188\n",
       "ma.L1         -0.8659      0.010    -88.033      0.000      -0.885      -0.847\n",
       "sigma2         0.0014   1.66e-05     82.415      0.000       0.001       0.001\n",
       "===================================================================================\n",
       "Ljung-Box (L1) (Q):                   2.65   Jarque-Bera (JB):            125984.40\n",
       "Prob(Q):                              0.10   Prob(JB):                         0.00\n",
       "Heteroskedasticity (H):               0.01   Skew:                             2.86\n",
       "Prob(H) (two-sided):                  0.00   Kurtosis:                        66.45\n",
       "===================================================================================\n",
       "\n",
       "Warnings:\n",
       "[1] Covariance matrix calculated using the outer product of gradients (complex-step).\n",
       "\"\"\""
      ]
     },
     "execution_count": 28,
     "metadata": {},
     "output_type": "execute_result"
    }
   ],
   "source": [
    "sum_result = results.summary()\n",
    "sum_result"
   ]
  },
  {
   "cell_type": "code",
   "execution_count": 29,
   "id": "01e4c3fa-546f-403b-973f-c29d1600dceb",
   "metadata": {},
   "outputs": [
    {
     "data": {
      "image/png": "[encoded data removed]",
      "text/plain": [
       "<Figure size 432x288 with 2 Axes>"
      ]
     },
     "metadata": {
      "needs_background": "light"
     },
     "output_type": "display_data"
    }
   ],
   "source": [
    "# Plot residual errors\n",
    "residuals = pd.DataFrame(results.resid)\n",
    "fig, ax = plt.subplots(1,2)\n",
    "residuals.plot(title=\"Residuals\", ax=ax[0])\n",
    "residuals.plot(kind='kde', title='Density', ax=ax[1])\n",
    "plt.show()"
   ]
  },
  {
   "cell_type": "code",
   "execution_count": 30,
   "id": "2d637715-b6db-463d-8b90-317ad8d54066",
   "metadata": {},
   "outputs": [
    {
     "data": {
      "text/plain": [
       "7.509335596696803e-203"
      ]
     },
     "execution_count": 30,
     "metadata": {},
     "output_type": "execute_result"
    }
   ],
   "source": [
    "results.pvalues[0]"
   ]
  },
  {
   "cell_type": "code",
   "execution_count": 31,
   "id": "d3975be4-2902-4f7f-a59c-7861a0755f03",
   "metadata": {},
   "outputs": [
    {
     "data": {
      "text/plain": [
       "-0.062306867856472124"
      ]
     },
     "execution_count": 31,
     "metadata": {},
     "output_type": "execute_result"
    }
   ],
   "source": [
    "results.standardized_forecasts_error.mean()"
   ]
  },
  {
   "cell_type": "code",
   "execution_count": null,
   "id": "1ca2e9c3-a096-4106-8b26-c1af54767814",
   "metadata": {},
   "outputs": [],
   "source": []
  }
 ],
 "metadata": {
  "kernelspec": {
   "display_name": "Python 3 (ipykernel)",
   "language": "python",
   "name": "python3"
  },
  "language_info": {
   "codemirror_mode": {
    "name": "ipython",
    "version": 3
   },
   "file_extension": ".py",
   "mimetype": "text/x-python",
   "name": "python",
   "nbconvert_exporter": "python",
   "pygments_lexer": "ipython3",
   "version": "3.8.8"
  }
 },
 "nbformat": 4,
 "nbformat_minor": 5
}
