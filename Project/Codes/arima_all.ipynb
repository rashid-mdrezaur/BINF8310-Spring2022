{
 "cells": [
  {
   "cell_type": "code",
   "execution_count": 1,
   "id": "a4a38713-3ad9-49aa-b5f5-0a09db143689",
   "metadata": {},
   "outputs": [],
   "source": [
    "import pandas as pd\n",
    "import numpy as np"
   ]
  },
  {
   "cell_type": "code",
   "execution_count": 2,
   "id": "1c287b89-6e01-4a2a-8336-50b6806e01a9",
   "metadata": {},
   "outputs": [],
   "source": [
    "from matplotlib import pyplot as plt"
   ]
  },
  {
   "cell_type": "code",
   "execution_count": 3,
   "id": "8de6f610-9325-4017-99f2-be84bd934701",
   "metadata": {},
   "outputs": [],
   "source": [
    "us_time_series = pd.read_csv('covid_dataset/COVID-19/csse_covid_19_data/csse_covid_19_time_series/time_series_covid19_confirmed_US.csv')\n",
    "us_time_series = us_time_series.drop(['UID','iso2','iso3','code3','FIPS','Admin2','Country_Region','Lat','Long_', 'Combined_Key'],axis=1)"
   ]
  },
  {
   "cell_type": "code",
   "execution_count": 4,
   "id": "c4007ddc-2750-4bf7-b206-86e4f56d3ec2",
   "metadata": {},
   "outputs": [],
   "source": [
    "# us_time_series.head()"
   ]
  },
  {
   "cell_type": "code",
   "execution_count": 5,
   "id": "493b07be-4e0f-4692-a831-aa0ecfb3a6e7",
   "metadata": {},
   "outputs": [],
   "source": [
    "us_time_series = us_time_series.drop(us_time_series.columns[[*range(1,50)]],axis=1)\n",
    "# us_time_series.head()"
   ]
  },
  {
   "cell_type": "code",
   "execution_count": 6,
   "id": "14b208a3-394e-4c00-9c62-c2e071875162",
   "metadata": {},
   "outputs": [],
   "source": [
    "nc_time_series = us_time_series[us_time_series['Province_State']=='North Carolina']\n",
    "\n",
    "list_err = []\n",
    "\n",
    "for i in range(nc_time_series.shape[0]):\n",
    "\n",
    "    case_data = nc_time_series.iloc[0,1:]\n",
    "\n",
    "    case_date = list(nc_time_series.columns)[1:]\n",
    "\n",
    "    data = pd.DataFrame(zip(case_date, case_data), columns=['dates', '#cases'])\n",
    "\n",
    "    from datetime import datetime\n",
    "    con=data['dates']\n",
    "    data['dates']=pd.to_datetime(data['dates'])\n",
    "    data.set_index('dates', inplace=True)\n",
    "    #check datatype of index\n",
    "    data.index\n",
    "\n",
    "    #convert to time series:\n",
    "    ts = data['#cases']\n",
    "    ts.head(10)\n",
    "\n",
    "    # plt.plot(ts)\n",
    "\n",
    "    from statsmodels.tsa.stattools import adfuller\n",
    "    def test_stationarity(timeseries):\n",
    "\n",
    "        #Determing rolling statistics\n",
    "        rolmean = timeseries.rolling(12).mean()\n",
    "        rolstd = timeseries.rolling(12).std()\n",
    "    #Plot rolling statistics:\n",
    "        # plt.plot(timeseries, color='blue',label='Original')\n",
    "        # plt.plot(rolmean, color='red', label='Rolling Mean')\n",
    "        # plt.plot(rolstd, color='black', label = 'Rolling Std')\n",
    "        # plt.legend(loc='best')\n",
    "        # plt.title('Rolling Mean & Standard Deviation')\n",
    "        # plt.show()\n",
    "        #Perform Dickey-Fuller test:\n",
    "        # print('Results of Dickey-Fuller Test:')\n",
    "        dftest = adfuller(timeseries, autolag='AIC')\n",
    "        dfoutput = pd.Series(dftest[0:4], index=['Test Statistic','p-value','#Lags Used','Number of Observations Used'])\n",
    "        for key,value in dftest[4].items():\n",
    "            dfoutput['Critical Value (%s)'%key] = value\n",
    "        # print(dfoutput)\n",
    "\n",
    "    test_stationarity(ts)\n",
    "\n",
    "    ts_log = np.log(ts)\n",
    "    # plt.plot(ts_log)\n",
    "\n",
    "    ts_log.replace([np.inf, -np.inf], np.nan, inplace=True)\n",
    "    ts_log.dropna(inplace=True)\n",
    "\n",
    "    moving_avg = ts_log.rolling(12).mean()\n",
    "    # plt.plot(ts_log)\n",
    "    # plt.plot(moving_avg, color='r')\n",
    "\n",
    "    ts_log_moving_avg_diff = ts_log - moving_avg\n",
    "    ts_log_moving_avg_diff.head(12)\n",
    "\n",
    "    ts_log_moving_avg_diff.dropna(inplace=True)\n",
    "    ts_log_moving_avg_diff.head()\n",
    "\n",
    "    test_stationarity(ts_log_moving_avg_diff)\n",
    "\n",
    "    ts_log_diff = ts_log - ts_log.shift()\n",
    "    # plt.plot(ts_log_diff)\n",
    "\n",
    "    # ts_log_diff.dropna(inplace=True)\n",
    "    # test_stationarity(ts_log_diff)\n",
    "\n",
    "    from statsmodels.tsa.arima.model import ARIMA\n",
    "    from statsmodels.tsa.stattools import acf, pacf\n",
    "\n",
    "    lag_acf = acf(ts_log, nlags=20)\n",
    "    lag_pacf = pacf(ts_log, nlags=20, method='ols')\n",
    "\n",
    "    model = ARIMA(ts_log_diff, order = (1,1,1))\n",
    "\n",
    "    results = model.fit()\n",
    "\n",
    "    # plt.plot(ts_log_diff)\n",
    "    # plt.plot(results.fittedvalues, color='r')\n",
    "\n",
    "    sum_result = results.summary()\n",
    "    sum_result\n",
    "\n",
    "    # Plot residual errors\n",
    "    residuals = pd.DataFrame(results.resid)\n",
    "    fig, ax = plt.subplots(1,2)\n",
    "    residuals.plot(title=\"Residuals\", ax=ax[0])\n",
    "    residuals.plot(kind='kde', title='Density', ax=ax[1])\n",
    "    # plt.show()\n",
    "\n",
    "    results.pvalues\n",
    "\n",
    "    err = results.standardized_forecasts_error.mean()\n",
    "    list_err.append(err)"
   ]
  },
  {
   "cell_type": "code",
   "execution_count": 9,
   "id": "92234e1f-afc5-4ea9-a70e-c388da499a08",
   "metadata": {},
   "outputs": [],
   "source": [
    "nc_err = np.array(list_err)"
   ]
  },
  {
   "cell_type": "code",
   "execution_count": 11,
   "id": "4341def8-764e-41f2-9e76-e41a9e069f6e",
   "metadata": {},
   "outputs": [],
   "source": [
    "sc_time_series = us_time_series[us_time_series['Province_State']=='South Carolina']\n",
    "\n",
    "list_err = []\n",
    "\n",
    "for i in range(sc_time_series.shape[0]):\n",
    "\n",
    "    case_data = sc_time_series.iloc[0,1:]\n",
    "\n",
    "    case_date = list(sc_time_series.columns)[1:]\n",
    "\n",
    "    data = pd.DataFrame(zip(case_date, case_data), columns=['dates', '#cases'])\n",
    "\n",
    "    from datetime import datetime\n",
    "    con=data['dates']\n",
    "    data['dates']=pd.to_datetime(data['dates'])\n",
    "    data.set_index('dates', inplace=True)\n",
    "    #check datatype of index\n",
    "    data.index\n",
    "\n",
    "    #convert to time series:\n",
    "    ts = data['#cases']\n",
    "    ts.head(10)\n",
    "\n",
    "    # plt.plot(ts)\n",
    "\n",
    "    from statsmodels.tsa.stattools import adfuller\n",
    "    def test_stationarity(timeseries):\n",
    "\n",
    "        #Determing rolling statistics\n",
    "        rolmean = timeseries.rolling(12).mean()\n",
    "        rolstd = timeseries.rolling(12).std()\n",
    "    #Plot rolling statistics:\n",
    "        # plt.plot(timeseries, color='blue',label='Original')\n",
    "        # plt.plot(rolmean, color='red', label='Rolling Mean')\n",
    "        # plt.plot(rolstd, color='black', label = 'Rolling Std')\n",
    "        # plt.legend(loc='best')\n",
    "        # plt.title('Rolling Mean & Standard Deviation')\n",
    "        # plt.show()\n",
    "        #Perform Dickey-Fuller test:\n",
    "        # print('Results of Dickey-Fuller Test:')\n",
    "        dftest = adfuller(timeseries, autolag='AIC')\n",
    "        dfoutput = pd.Series(dftest[0:4], index=['Test Statistic','p-value','#Lags Used','Number of Observations Used'])\n",
    "        for key,value in dftest[4].items():\n",
    "            dfoutput['Critical Value (%s)'%key] = value\n",
    "        # print(dfoutput)\n",
    "\n",
    "    test_stationarity(ts)\n",
    "\n",
    "    ts_log = np.log(ts)\n",
    "    # plt.plot(ts_log)\n",
    "\n",
    "    ts_log.replace([np.inf, -np.inf], np.nan, inplace=True)\n",
    "    ts_log.dropna(inplace=True)\n",
    "\n",
    "    moving_avg = ts_log.rolling(12).mean()\n",
    "    # plt.plot(ts_log)\n",
    "    # plt.plot(moving_avg, color='r')\n",
    "\n",
    "    ts_log_moving_avg_diff = ts_log - moving_avg\n",
    "    ts_log_moving_avg_diff.head(12)\n",
    "\n",
    "    ts_log_moving_avg_diff.dropna(inplace=True)\n",
    "    ts_log_moving_avg_diff.head()\n",
    "\n",
    "    test_stationarity(ts_log_moving_avg_diff)\n",
    "\n",
    "    ts_log_diff = ts_log - ts_log.shift()\n",
    "    # plt.plot(ts_log_diff)\n",
    "\n",
    "    # ts_log_diff.dropna(inplace=True)\n",
    "    # test_stationarity(ts_log_diff)\n",
    "\n",
    "    from statsmodels.tsa.arima.model import ARIMA\n",
    "    from statsmodels.tsa.stattools import acf, pacf\n",
    "\n",
    "    lag_acf = acf(ts_log, nlags=20)\n",
    "    lag_pacf = pacf(ts_log, nlags=20, method='ols')\n",
    "\n",
    "    model = ARIMA(ts_log_diff, order = (1,1,1))\n",
    "\n",
    "    results = model.fit()\n",
    "\n",
    "    # plt.plot(ts_log_diff)\n",
    "    # plt.plot(results.fittedvalues, color='r')\n",
    "\n",
    "    sum_result = results.summary()\n",
    "    sum_result\n",
    "\n",
    "    # Plot residual errors\n",
    "    residuals = pd.DataFrame(results.resid)\n",
    "    fig, ax = plt.subplots(1,2)\n",
    "    residuals.plot(title=\"Residuals\", ax=ax[0])\n",
    "    residuals.plot(kind='kde', title='Density', ax=ax[1])\n",
    "    # plt.show()\n",
    "\n",
    "    results.pvalues\n",
    "\n",
    "    err = results.standardized_forecasts_error.mean()\n",
    "    list_err.append(err)"
   ]
  },
  {
   "cell_type": "code",
   "execution_count": 13,
   "id": "ccf01775-cddb-4690-bbb3-cc1f92541e94",
   "metadata": {},
   "outputs": [],
   "source": [
    "sc_err = np.array(list_err)"
   ]
  },
  {
   "cell_type": "code",
   "execution_count": 15,
   "id": "5dca331b-39bf-48a8-a4c3-20b9a8a3edeb",
   "metadata": {},
   "outputs": [],
   "source": [
    "from scipy import stats"
   ]
  },
  {
   "cell_type": "code",
   "execution_count": 23,
   "id": "181a9a99-5c58-4dd3-bebb-d368b1af6713",
   "metadata": {},
   "outputs": [],
   "source": [
    "res = stats.ttest_ind(nc_err, sc_err, equal_var=False)"
   ]
  },
  {
   "cell_type": "code",
   "execution_count": 24,
   "id": "f923d805-6b20-4729-87b9-a48a0fc57aa9",
   "metadata": {},
   "outputs": [
    {
     "data": {
      "text/plain": [
       "Ttest_indResult(statistic=-4289933547973839.5, pvalue=0.0)"
      ]
     },
     "execution_count": 24,
     "metadata": {},
     "output_type": "execute_result"
    }
   ],
   "source": [
    "res"
   ]
  },
  {
   "cell_type": "code",
   "execution_count": 25,
   "id": "24147cb8-2133-4270-82e5-2dcae3a0cbcb",
   "metadata": {},
   "outputs": [
    {
     "data": {
      "text/plain": [
       "array([-0.06230687, -0.06230687, -0.06230687, -0.06230687, -0.06230687,\n",
       "       -0.06230687, -0.06230687, -0.06230687, -0.06230687, -0.06230687,\n",
       "       -0.06230687, -0.06230687, -0.06230687, -0.06230687, -0.06230687,\n",
       "       -0.06230687, -0.06230687, -0.06230687, -0.06230687, -0.06230687,\n",
       "       -0.06230687, -0.06230687, -0.06230687, -0.06230687, -0.06230687,\n",
       "       -0.06230687, -0.06230687, -0.06230687, -0.06230687, -0.06230687,\n",
       "       -0.06230687, -0.06230687, -0.06230687, -0.06230687, -0.06230687,\n",
       "       -0.06230687, -0.06230687, -0.06230687, -0.06230687, -0.06230687,\n",
       "       -0.06230687, -0.06230687, -0.06230687, -0.06230687, -0.06230687,\n",
       "       -0.06230687, -0.06230687, -0.06230687, -0.06230687, -0.06230687,\n",
       "       -0.06230687, -0.06230687, -0.06230687, -0.06230687, -0.06230687,\n",
       "       -0.06230687, -0.06230687, -0.06230687, -0.06230687, -0.06230687,\n",
       "       -0.06230687, -0.06230687, -0.06230687, -0.06230687, -0.06230687,\n",
       "       -0.06230687, -0.06230687, -0.06230687, -0.06230687, -0.06230687,\n",
       "       -0.06230687, -0.06230687, -0.06230687, -0.06230687, -0.06230687,\n",
       "       -0.06230687, -0.06230687, -0.06230687, -0.06230687, -0.06230687,\n",
       "       -0.06230687, -0.06230687, -0.06230687, -0.06230687, -0.06230687,\n",
       "       -0.06230687, -0.06230687, -0.06230687, -0.06230687, -0.06230687,\n",
       "       -0.06230687, -0.06230687, -0.06230687, -0.06230687, -0.06230687,\n",
       "       -0.06230687, -0.06230687, -0.06230687, -0.06230687, -0.06230687,\n",
       "       -0.06230687, -0.06230687])"
      ]
     },
     "execution_count": 25,
     "metadata": {},
     "output_type": "execute_result"
    }
   ],
   "source": [
    "nc_err"
   ]
  },
  {
   "cell_type": "code",
   "execution_count": null,
   "id": "151610ce-65f9-427d-bd9a-032e77cac3b0",
   "metadata": {},
   "outputs": [],
   "source": []
  }
 ],
 "metadata": {
  "kernelspec": {
   "display_name": "Python 3 (ipykernel)",
   "language": "python",
   "name": "python3"
  },
  "language_info": {
   "codemirror_mode": {
    "name": "ipython",
    "version": 3
   },
   "file_extension": ".py",
   "mimetype": "text/x-python",
   "name": "python",
   "nbconvert_exporter": "python",
   "pygments_lexer": "ipython3",
   "version": "3.8.8"
  }
 },
 "nbformat": 4,
 "nbformat_minor": 5
}
