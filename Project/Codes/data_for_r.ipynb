{
 "cells": [
  {
   "cell_type": "code",
   "execution_count": 61,
   "id": "5f363c72-7b49-4ca4-9e39-e4f31c243eae",
   "metadata": {},
   "outputs": [],
   "source": [
    "import pandas as pd\n",
    "import numpy as np"
   ]
  },
  {
   "cell_type": "code",
   "execution_count": 62,
   "id": "0929ae0e-be08-4ed1-9251-df7e14a8b405",
   "metadata": {},
   "outputs": [
    {
     "data": {
      "text/html": [
       "<div>\n",
       "<style scoped>\n",
       "    .dataframe tbody tr th:only-of-type {\n",
       "        vertical-align: middle;\n",
       "    }\n",
       "\n",
       "    .dataframe tbody tr th {\n",
       "        vertical-align: top;\n",
       "    }\n",
       "\n",
       "    .dataframe thead th {\n",
       "        text-align: right;\n",
       "    }\n",
       "</style>\n",
       "<table border=\"1\" class=\"dataframe\">\n",
       "  <thead>\n",
       "    <tr style=\"text-align: right;\">\n",
       "      <th></th>\n",
       "      <th>Province_State</th>\n",
       "      <th>Confirmed</th>\n",
       "      <th>Deaths</th>\n",
       "      <th>Recovered</th>\n",
       "      <th>People_Hospitalized</th>\n",
       "      <th>date</th>\n",
       "      <th>Mortality</th>\n",
       "    </tr>\n",
       "  </thead>\n",
       "  <tbody>\n",
       "    <tr>\n",
       "      <th>0</th>\n",
       "      <td>Arizona</td>\n",
       "      <td>530267</td>\n",
       "      <td>9015</td>\n",
       "      <td>76934</td>\n",
       "      <td>0</td>\n",
       "      <td>1/1/2021</td>\n",
       "      <td>0.017001</td>\n",
       "    </tr>\n",
       "    <tr>\n",
       "      <th>1</th>\n",
       "      <td>Arkansas</td>\n",
       "      <td>229442</td>\n",
       "      <td>3711</td>\n",
       "      <td>199247</td>\n",
       "      <td>0</td>\n",
       "      <td>1/1/2021</td>\n",
       "      <td>0.016174</td>\n",
       "    </tr>\n",
       "  </tbody>\n",
       "</table>\n",
       "</div>"
      ],
      "text/plain": [
       "  Province_State  Confirmed  Deaths  Recovered  People_Hospitalized      date  \\\n",
       "0        Arizona     530267    9015      76934                    0  1/1/2021   \n",
       "1       Arkansas     229442    3711     199247                    0  1/1/2021   \n",
       "\n",
       "   Mortality  \n",
       "0   0.017001  \n",
       "1   0.016174  "
      ]
     },
     "execution_count": 62,
     "metadata": {},
     "output_type": "execute_result"
    }
   ],
   "source": [
    "df = pd.read_csv('covid_dataset/us-covid19/state_covid_data.csv')\n",
    "df.head(2)"
   ]
  },
  {
   "cell_type": "code",
   "execution_count": 63,
   "id": "60a60650-ef3c-4824-b88b-e29ff711b511",
   "metadata": {},
   "outputs": [
    {
     "data": {
      "text/plain": [
       "51"
      ]
     },
     "execution_count": 63,
     "metadata": {},
     "output_type": "execute_result"
    }
   ],
   "source": [
    "states = list(df['Province_State'].unique())\n",
    "len(states)"
   ]
  },
  {
   "cell_type": "code",
   "execution_count": 69,
   "id": "4c131661-06f3-4f53-9f09-9585c2bc9104",
   "metadata": {},
   "outputs": [],
   "source": [
    "df_list = []"
   ]
  },
  {
   "cell_type": "code",
   "execution_count": 70,
   "id": "9ebd426c-2847-4354-b621-2e68c5c7c9ce",
   "metadata": {},
   "outputs": [],
   "source": [
    "for st in states:\n",
    "    df_state = df[df['Province_State']==st]\n",
    "    df_state.fillna(0)\n",
    "    df_list.append(df_state)"
   ]
  },
  {
   "cell_type": "code",
   "execution_count": 72,
   "id": "51f285dd-6b66-447d-bdd0-d67d05308c92",
   "metadata": {},
   "outputs": [],
   "source": [
    "new_df_list = pd.concat(df_list, axis=0)"
   ]
  },
  {
   "cell_type": "code",
   "execution_count": 74,
   "id": "8764046f-ed6f-4895-ab6c-f13b84497ddf",
   "metadata": {},
   "outputs": [],
   "source": [
    "new_df_list.to_csv('covid_dataset/state_data/new_state_data.csv', index=None)"
   ]
  },
  {
   "cell_type": "code",
   "execution_count": 35,
   "id": "52813d6b-e7e1-4702-abef-2e7e7c782c91",
   "metadata": {},
   "outputs": [],
   "source": []
  },
  {
   "cell_type": "code",
   "execution_count": 35,
   "id": "ceabc4f2-ffbb-4181-b74b-c81f4ac36578",
   "metadata": {},
   "outputs": [],
   "source": []
  },
  {
   "cell_type": "code",
   "execution_count": 57,
   "id": "4c447e20-815f-4127-9bbc-2aeda199e9c9",
   "metadata": {},
   "outputs": [],
   "source": [
    "# for st in states:\n",
    "#     df_state = df[df['Province_State']==st]\n",
    "#     dict_confirm[st] = list(df_state['Confirmed'])\n",
    "#     dict_death[st] = list(df_state['Deaths'])\n",
    "#     dict_recover[st] = list(df_state['Recovered'])\n",
    "#     dict_mortality[st] = list(df_state['Mortality'])\n",
    "#     case_length.append(len(df_state))\n",
    "\n",
    "# df_confirm = pd.DataFrame.from_dict(dict_confirm)\n",
    "# df_confirm.to_csv('covid_dataset/state_data/confirm.csv', index = None)\n",
    "\n",
    "# df_death = pd.DataFrame.from_dict(dict_death)\n",
    "# df_death.to_csv('covid_dataset/state_data/death.csv', index = None)\n",
    "\n",
    "# df_recover = pd.DataFrame.from_dict(dict_recover)\n",
    "# df_recover.to_csv('covid_dataset/state_data/recovered.csv', index = None)\n",
    "\n",
    "# df_mort = pd.DataFrame.from_dict(dict_mortality)\n",
    "# df_mort.to_csv('covid_dataset/state_data/mortality.csv', index = None)"
   ]
  },
  {
   "cell_type": "code",
   "execution_count": null,
   "id": "dca65e7b-7d5a-4068-8e7e-f1676d87baf5",
   "metadata": {},
   "outputs": [],
   "source": []
  }
 ],
 "metadata": {
  "kernelspec": {
   "display_name": "Python 3 (ipykernel)",
   "language": "python",
   "name": "python3"
  },
  "language_info": {
   "codemirror_mode": {
    "name": "ipython",
    "version": 3
   },
   "file_extension": ".py",
   "mimetype": "text/x-python",
   "name": "python",
   "nbconvert_exporter": "python",
   "pygments_lexer": "ipython3",
   "version": "3.8.8"
  }
 },
 "nbformat": 4,
 "nbformat_minor": 5
}
